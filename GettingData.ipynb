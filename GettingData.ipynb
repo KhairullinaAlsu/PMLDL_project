{
 "cells": [
  {
   "cell_type": "code",
   "execution_count": 4,
   "id": "390ec73b",
   "metadata": {},
   "outputs": [
    {
     "name": "stdout",
     "output_type": "stream",
     "text": [
      "Requirement already satisfied: spotipy in c:\\users\\1\\appdata\\local\\programs\\python\\python39\\lib\\site-packages (2.24.0)\n",
      "Requirement already satisfied: requests>=2.25.0 in c:\\users\\1\\appdata\\local\\programs\\python\\python39\\lib\\site-packages (from spotipy) (2.32.3)\n",
      "Requirement already satisfied: urllib3>=1.26.0 in c:\\users\\1\\appdata\\local\\programs\\python\\python39\\lib\\site-packages (from spotipy) (2.2.3)\n",
      "Requirement already satisfied: redis>=3.5.3 in c:\\users\\1\\appdata\\local\\programs\\python\\python39\\lib\\site-packages (from spotipy) (5.0.8)\n",
      "Requirement already satisfied: async-timeout>=4.0.3 in c:\\users\\1\\appdata\\local\\programs\\python\\python39\\lib\\site-packages (from redis>=3.5.3->spotipy) (4.0.3)\n",
      "Requirement already satisfied: certifi>=2017.4.17 in c:\\users\\1\\appdata\\local\\programs\\python\\python39\\lib\\site-packages (from requests>=2.25.0->spotipy) (2024.8.30)\n",
      "Requirement already satisfied: idna<4,>=2.5 in c:\\users\\1\\appdata\\local\\programs\\python\\python39\\lib\\site-packages (from requests>=2.25.0->spotipy) (3.10)\n",
      "Requirement already satisfied: charset-normalizer<4,>=2 in c:\\users\\1\\appdata\\local\\programs\\python\\python39\\lib\\site-packages (from requests>=2.25.0->spotipy) (3.3.2)\n",
      "Note: you may need to restart the kernel to use updated packages.\n"
     ]
    },
    {
     "name": "stderr",
     "output_type": "stream",
     "text": [
      "WARNING: You are using pip version 22.0.4; however, version 24.2 is available.\n",
      "You should consider upgrading via the 'c:\\Users\\1\\AppData\\Local\\Programs\\Python\\Python39\\python.exe -m pip install --upgrade pip' command.\n"
     ]
    }
   ],
   "source": [
    "pip install spotipy"
   ]
  },
  {
   "cell_type": "code",
   "execution_count": 5,
   "id": "f47004be",
   "metadata": {},
   "outputs": [],
   "source": [
    "import csv\n",
    "import spotipy\n",
    "from spotipy.oauth2 import SpotifyClientCredentials\n",
    "\n",
    "client_id = 'd061b0cb3ff347acb2968e6585f80104'\n",
    "client_secret = '287bfbacf27f43f5bfdb325b389a7d'\n",
    "\n",
    "client_credentials_manager = SpotifyClientCredentials(client_id=client_id, client_secret=client_secret)\n",
    "sp = spotipy.Spotify(client_credentials_manager=client_credentials_manager)"
   ]
  },
  {
   "cell_type": "code",
   "execution_count": 6,
   "id": "01af6766",
   "metadata": {},
   "outputs": [],
   "source": [
    "def get_track_data(track_id):\n",
    "    track_info = sp.track(track_id)\n",
    "    audio_features = sp.audio_features(track_id)[0]\n",
    "\n",
    "    data = {\n",
    "        'track_name': track_info['name'],\n",
    "        'artist_name': track_info['artists'][0]['name'],\n",
    "        'album_name': track_info['album']['name'],\n",
    "        'release_date': track_info['album']['release_date'],\n",
    "        'acousticness': audio_features['acousticness'],\n",
    "        'energy': audio_features['energy'],\n",
    "        'tempo': audio_features['tempo']\n",
    "    }\n",
    "\n",
    "    return data"
   ]
  }
 ],
 "metadata": {
  "kernelspec": {
   "display_name": "Python 3 (ipykernel)",
   "language": "python",
   "name": "python3"
  },
  "language_info": {
   "codemirror_mode": {
    "name": "ipython",
    "version": 3
   },
   "file_extension": ".py",
   "mimetype": "text/x-python",
   "name": "python",
   "nbconvert_exporter": "python",
   "pygments_lexer": "ipython3",
   "version": "3.9.13"
  }
 },
 "nbformat": 4,
 "nbformat_minor": 5
}
