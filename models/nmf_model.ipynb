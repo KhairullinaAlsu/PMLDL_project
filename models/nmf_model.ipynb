{
  "cells": [
    {
      "cell_type": "code",
      "execution_count": 2,
      "metadata": {
        "id": "0DL917Eu1zdU"
      },
      "outputs": [],
      "source": [
        "from sklearn.decomposition import NMF\n",
        "import pandas as pd\n",
        "import numpy as np"
      ]
    },
    {
      "cell_type": "code",
      "execution_count": 4,
      "metadata": {
        "id": "DNnuzxPv1zdX"
      },
      "outputs": [],
      "source": [
        "tracks_df = pd.read_csv('cleaned_tracks_dataset.csv')\n",
        "user_tracks_df = pd.read_csv('users_tracks_cleaned.csv')"
      ]
    },
    {
      "cell_type": "code",
      "execution_count": 5,
      "metadata": {
        "id": "69yYC7ya1zdZ"
      },
      "outputs": [],
      "source": [
        "unique_tracks = tracks_df['track_id'].unique()\n",
        "user_track_matrix = pd.DataFrame(0, index=user_tracks_df['user_id'], columns=unique_tracks)\n",
        "\n",
        "for index, row in user_tracks_df.iterrows():\n",
        "    user_id = row['user_id']\n",
        "    for track_id in row[1:]:\n",
        "        user_track_matrix.loc[user_id, track_id] = 1\n",
        "\n",
        "nmf_model = NMF(n_components=10, init='nndsvd', random_state=42, max_iter=500)\n",
        "user_factors = nmf_model.fit_transform(user_track_matrix)\n",
        "track_factors = nmf_model.components_"
      ]
    },
    {
      "cell_type": "code",
      "execution_count": 6,
      "metadata": {
        "id": "ohYyeeI11zdb"
      },
      "outputs": [],
      "source": [
        "predictions = {}\n",
        "\n",
        "for user_id in user_track_matrix.index:\n",
        "    if user_id < len(user_factors):\n",
        "        user_preferences = np.dot(user_factors[user_id - 1], track_factors)\n",
        "\n",
        "        user_fav_tracks = user_tracks_df[user_tracks_df['user_id'] == user_id].values[0][1:]\n",
        "        recommendations = [\n",
        "            (track, score)\n",
        "            for track, score in zip(user_track_matrix.columns, user_preferences)\n",
        "            if track not in user_fav_tracks\n",
        "        ]\n",
        "\n",
        "        top_recommendations = sorted(recommendations, key=lambda x: x[1], reverse=True)[:3]\n",
        "        predictions[user_id] = [track for track, score in top_recommendations]\n",
        "\n",
        "predictions_df = pd.DataFrame.from_dict(predictions, orient='index', columns=['rec_1', 'rec_2', 'rec_3'])"
      ]
    },
    {
      "cell_type": "code",
      "execution_count": 7,
      "metadata": {
        "id": "EOMuOh221zdd"
      },
      "outputs": [],
      "source": [
        "\n",
        "predictions_df.to_csv('user_recommendations_NMF.csv', index_label='user')"
      ]
    }
  ],
  "metadata": {
    "kernelspec": {
      "display_name": "Python 3",
      "language": "python",
      "name": "python3"
    },
    "language_info": {
      "codemirror_mode": {
        "name": "ipython",
        "version": 3
      },
      "file_extension": ".py",
      "mimetype": "text/x-python",
      "name": "python",
      "nbconvert_exporter": "python",
      "pygments_lexer": "ipython3",
      "version": "3.9.13"
    },
    "colab": {
      "provenance": []
    }
  },
  "nbformat": 4,
  "nbformat_minor": 0
}