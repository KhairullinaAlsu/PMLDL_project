{
 "cells": [
  {
   "cell_type": "code",
   "execution_count": 1,
   "metadata": {},
   "outputs": [],
   "source": [
    "from sklearn.decomposition import NMF\n",
    "import pandas as pd\n",
    "import numpy as np"
   ]
  },
  {
   "cell_type": "code",
   "execution_count": 2,
   "metadata": {},
   "outputs": [],
   "source": [
    "tracks_df = pd.read_csv('dataset.csv')\n",
    "user_tracks_df = pd.read_csv('favorite_tracks.csv')"
   ]
  },
  {
   "cell_type": "code",
   "execution_count": 5,
   "metadata": {},
   "outputs": [],
   "source": [
    "# 2. Подготовка пользовательско-трековой матрицы\n",
    "unique_tracks = tracks_df['track_id'].unique()\n",
    "user_track_matrix = pd.DataFrame(0, index=user_tracks_df['user'], columns=unique_tracks)\n",
    "\n",
    "for index, row in user_tracks_df.iterrows():\n",
    "    user_id = row['user']\n",
    "    for track_id in row[1:]:\n",
    "        user_track_matrix.loc[user_id, track_id] = 1  \n",
    "\n",
    "# 3. Обучение NMF модели\n",
    "nmf_model = NMF(n_components=10, init='nndsvd', random_state=42, max_iter=500)\n",
    "user_factors = nmf_model.fit_transform(user_track_matrix)\n",
    "track_factors = nmf_model.components_"
   ]
  },
  {
   "cell_type": "code",
   "execution_count": 8,
   "metadata": {},
   "outputs": [],
   "source": [
    "# 4. Генерация рекомендаций\n",
    "predictions = {}\n",
    "\n",
    "for user_id in user_track_matrix.index:\n",
    "    # Проверяем, существует ли пользователь в user_factors\n",
    "    if user_id < len(user_factors):  # Индексация в user_factors начинается с 0\n",
    "        # Получаем прогнозы для текущего пользователя\n",
    "        user_preferences = np.dot(user_factors[user_id - 1], track_factors)\n",
    "        \n",
    "        # Исключаем любимые треки пользователя\n",
    "        user_fav_tracks = user_tracks_df[user_tracks_df['user'] == user_id].values[0][1:]\n",
    "        recommendations = [\n",
    "            (track, score) \n",
    "            for track, score in zip(user_track_matrix.columns, user_preferences) \n",
    "            if track not in user_fav_tracks\n",
    "        ]\n",
    "        \n",
    "        # Сортировка и выбор 3 лучших рекомендаций\n",
    "        top_recommendations = sorted(recommendations, key=lambda x: x[1], reverse=True)[:3]\n",
    "        predictions[user_id] = [track for track, score in top_recommendations]\n",
    "\n",
    "# 5. Вывод результата\n",
    "predictions_df = pd.DataFrame.from_dict(predictions, orient='index', columns=['rec_1', 'rec_2', 'rec_3'])\n",
    "\n"
   ]
  },
  {
   "cell_type": "code",
   "execution_count": 10,
   "metadata": {},
   "outputs": [],
   "source": [
    "# Сохранение предсказаний в CSVы файл\n",
    "predictions_df.to_csv('user_recommendations_NMF.csv', index_label='user')"
   ]
  }
 ],
 "metadata": {
  "kernelspec": {
   "display_name": "Python 3",
   "language": "python",
   "name": "python3"
  },
  "language_info": {
   "codemirror_mode": {
    "name": "ipython",
    "version": 3
   },
   "file_extension": ".py",
   "mimetype": "text/x-python",
   "name": "python",
   "nbconvert_exporter": "python",
   "pygments_lexer": "ipython3",
   "version": "3.9.13"
  }
 },
 "nbformat": 4,
 "nbformat_minor": 2
}
