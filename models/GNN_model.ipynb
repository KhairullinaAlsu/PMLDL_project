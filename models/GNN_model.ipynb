{
  "nbformat": 4,
  "nbformat_minor": 0,
  "metadata": {
    "colab": {
      "provenance": []
    },
    "kernelspec": {
      "name": "python3",
      "display_name": "Python 3"
    },
    "language_info": {
      "name": "python"
    }
  },
  "cells": [
    {
      "cell_type": "code",
      "source": [
        "import pandas as pd\n",
        "import numpy as np\n",
        "import networkx as nx\n",
        "from sklearn.metrics.pairwise import cosine_similarity"
      ],
      "metadata": {
        "id": "7PXHkKe8IW0Y"
      },
      "execution_count": 35,
      "outputs": []
    },
    {
      "cell_type": "code",
      "source": [
        "cleaned_tracks_dataset = pd.read_csv('cleaned_tracks_dataset.csv')\n",
        "user_tracks_cleaned = pd.read_csv('users_tracks_cleaned.csv')"
      ],
      "metadata": {
        "id": "AyKbGE_EJAsC"
      },
      "execution_count": 36,
      "outputs": []
    },
    {
      "cell_type": "code",
      "source": [
        "features = ['artistname', 'track_popularity', 'playlist_genre', 'playlist_subgenre', 'danceability', 'energy', 'key', 'loudness',\n",
        "            'mode', 'speechiness', 'acousticness', 'instrumentalness', 'liveness', 'valence', 'tempo', 'duration_ms']\n",
        "\n",
        "track_features = cleaned_tracks_dataset[features]\n",
        "track_features = track_features.set_index(cleaned_tracks_dataset['track_id'])"
      ],
      "metadata": {
        "id": "26xPI1sbJZKl"
      },
      "execution_count": 37,
      "outputs": []
    },
    {
      "cell_type": "code",
      "source": [
        "G = nx.Graph()\n",
        "\n",
        "user_ids = user_tracks_cleaned['user_id'].unique()\n",
        "track_ids = cleaned_tracks_dataset['track_id'].unique()\n",
        "\n",
        "for user_id in user_ids:\n",
        "    G.add_node(user_id, type='user')\n",
        "\n",
        "for track_id in track_ids:\n",
        "    G.add_node(track_id, type='track')\n"
      ],
      "metadata": {
        "id": "AEu_o2mSJbpA"
      },
      "execution_count": 38,
      "outputs": []
    },
    {
      "cell_type": "code",
      "source": [
        "for _, row in user_tracks_cleaned.iterrows():\n",
        "    user_id = row['user_id']\n",
        "    favorite_tracks = row[1:].dropna().astype(int).tolist()\n",
        "    for track_id in favorite_tracks:\n",
        "        G.add_edge(user_id, track_id)\n"
      ],
      "metadata": {
        "id": "8WvnXt1WJd2Y"
      },
      "execution_count": 39,
      "outputs": []
    },
    {
      "cell_type": "code",
      "source": [
        "def recommend(user_id, G, track_features, top_n=3):\n",
        "    neighbors = list(G.neighbors(user_id))\n",
        "\n",
        "    if not neighbors:\n",
        "        return []\n",
        "\n",
        "    listened_tracks = [n for n in neighbors if G.nodes[n]['type'] == 'track']\n",
        "    listened_features = track_features.loc[listened_tracks].values\n",
        "\n",
        "    avg_features = np.mean(listened_features, axis=0)\n",
        "\n",
        "    similarity_scores = cosine_similarity([avg_features], track_features.values)\n",
        "\n",
        "    sorted_indices = np.argsort(similarity_scores[0])[::-1]\n",
        "\n",
        "    recommended_tracks = []\n",
        "    for idx in sorted_indices:\n",
        "        track_id = track_features.index[idx]\n",
        "        if track_id not in listened_tracks:\n",
        "            recommended_tracks.append(track_id)\n",
        "        if len(recommended_tracks) >= top_n:\n",
        "            break\n",
        "\n",
        "    return recommended_tracks\n"
      ],
      "metadata": {
        "id": "cjeP3pY3JfOI"
      },
      "execution_count": 40,
      "outputs": []
    },
    {
      "cell_type": "code",
      "source": [
        "user_recommendations_GNN = pd.DataFrame(columns=['user', 'rec_1', 'rec_2', 'rec_3'])\n",
        "\n",
        "for user_id in user_ids:\n",
        "    recommendations = recommend(user_id, G, track_features)\n",
        "    new_row = pd.DataFrame({\n",
        "        'user': [user_id],\n",
        "        'rec_1': [recommendations[0] if len(recommendations) > 0 else None],\n",
        "        'rec_2': [recommendations[1] if len(recommendations) > 1 else None],\n",
        "        'rec_3': [recommendations[2] if len(recommendations) > 2 else None]\n",
        "    })\n",
        "    user_recommendations_GNN = pd.concat([user_recommendations_GNN, new_row], ignore_index=True)\n",
        "\n",
        "user_recommendations_GNN.to_csv('user_recommendations_GNN.csv', index=False)"
      ],
      "metadata": {
        "id": "18L8fOVBJlhn"
      },
      "execution_count": 41,
      "outputs": []
    }
  ]
}