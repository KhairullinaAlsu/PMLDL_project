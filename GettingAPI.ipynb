{
 "cells": [
  {
   "cell_type": "code",
   "execution_count": null,
   "id": "390ec73b",
   "metadata": {},
   "outputs": [],
   "source": [
    "pip install spotipy"
   ]
  },
  {
   "cell_type": "code",
   "execution_count": 14,
   "id": "f47004be",
   "metadata": {},
   "outputs": [
    {
     "name": "stdout",
     "output_type": "stream",
     "text": [
      "Данные о треках успешно сохранены в tracks_data.csv\n"
     ]
    }
   ],
   "source": [
    "import csv\n",
    "import spotipy\n",
    "from spotipy.oauth2 import SpotifyClientCredentials\n",
    "\n",
    "client_id = 'd061b0cb3ff347acb2968e6585f80104'\n",
    "client_secret = '287bfbacf27f43f5bfdb325b389a7df5'\n",
    "\n",
    "client_credentials_manager = SpotifyClientCredentials(client_id=client_id, client_secret=client_secret)\n",
    "sp = spotipy.Spotify(client_credentials_manager=client_credentials_manager)"
   ]
  },
  {
   "cell_type": "code",
   "execution_count": 17,
   "id": "cac5b74f",
   "metadata": {},
   "outputs": [],
   "source": [
    "def get_track_data(track_id):\n",
    "    track_info = sp.track(track_id)\n",
    "    audio_features = sp.audio_features(track_id)[0]\n",
    "\n",
    "    data = {\n",
    "        'track_name': track_info['name'],\n",
    "        'artist_name': track_info['artists'][0]['name'],\n",
    "        'album_name': track_info['album']['name'],\n",
    "        'release_date': track_info['album']['release_date'],\n",
    "        'acousticness': audio_features['acousticness'],\n",
    "        'energy': audio_features['energy'],\n",
    "        'tempo': audio_features['tempo']\n",
    "    }\n",
    "\n",
    "    return data"
   ]
  },
  {
   "cell_type": "code",
   "execution_count": 19,
   "id": "0103d032",
   "metadata": {},
   "outputs": [],
   "source": [
    "track_ids = ['4uLU6hMCjMI75M1A2tKUQC', '1CsMKhwEmNnmvHUuO5nryA'] \n",
    "tracks_data = []\n",
    "\n",
    "for track_id in track_ids:\n",
    "    track_data = get_track_data(track_id)\n",
    "    tracks_data.append(track_data)\n",
    "\n",
    "csv_file_path = 'tracks_data.csv'\n",
    "with open(csv_file_path, mode='w', newline='', encoding='utf-8') as csv_file:\n",
    "    fieldnames = ['track_name', 'artist_name', 'album_name', 'release_date', 'acousticness', 'energy', 'tempo']\n",
    "    writer = csv.DictWriter(csv_file, fieldnames=fieldnames)\n",
    "\n",
    "    writer.writeheader() \n",
    "    for track in tracks_data:\n",
    "        writer.writerow(track)  \n"
   ]
  }
 ],
 "metadata": {
  "kernelspec": {
   "display_name": "Python 3 (ipykernel)",
   "language": "python",
   "name": "python3"
  },
  "language_info": {
   "codemirror_mode": {
    "name": "ipython",
    "version": 3
   },
   "file_extension": ".py",
   "mimetype": "text/x-python",
   "name": "python",
   "nbconvert_exporter": "python",
   "pygments_lexer": "ipython3",
   "version": "3.9.13"
  }
 },
 "nbformat": 4,
 "nbformat_minor": 5
}
