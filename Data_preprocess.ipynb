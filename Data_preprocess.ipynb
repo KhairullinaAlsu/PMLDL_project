{
 "cells": [
  {
   "cell_type": "code",
   "execution_count": null,
   "id": "390ec73b",
   "metadata": {},
   "outputs": [],
   "source": [
    "pip install spotipy"
   ]
  },
  {
   "cell_type": "code",
   "execution_count": 60,
   "id": "f47004be",
   "metadata": {},
   "outputs": [],
   "source": [
    "import csv\n",
    "import spotipy\n",
    "import spotipy\n",
    "from spotipy.oauth2 import SpotifyClientCredentials, SpotifyOAuth\n",
    "\n",
    "\n",
    "client_id = 'd061b0cb3ff347acb2968e6585f80104'\n",
    "client_secret = '287bfbacf27f43f5bfdb325b389a7df5'\n",
    "\n",
    "\n",
    "client_credentials_manager = SpotifyClientCredentials(client_id=client_id, client_secret=client_secret)\n",
    "sp = spotipy.Spotify(client_credentials_manager=client_credentials_manager)"
   ]
  },
  {
   "cell_type": "code",
   "execution_count": null,
   "id": "01af6766",
   "metadata": {},
   "outputs": [],
   "source": [
    "import pandas as pd\n",
    "\n",
    "playlist_ids = [\n",
    "    '37i9dQZF1DXcBWIGoYBM5M', \n",
    "    '37i9dQZEVXbLiRSasKsNU9', \n",
    "    '37i9dQZEVXbMDoHDwVN2tF', \n",
    "    '37i9dQZEVXbNG2KDcFcKOF',\n",
    "    '4E0rXJSUur9qqbn0uZGtwE',\n",
    "    '77kBUalZyju2tXEuPF36e8',\n",
    "    '1W2Hms9hAHMBu71mEu0YuV',\n",
    "    '6CxnmQPhTEpCoB6YtcvKUZ',\n",
    "    '4y7mJB8JLrjhp2c6k3ADGC'\n",
    "]\n",
    "\n",
    "track_data = []\n",
    "\n",
    "for playlist_id in playlist_ids:\n",
    "    results = sp.playlist_tracks(playlist_id)\n",
    "    for item in results['items']:\n",
    "        track = item['track']\n",
    "        track_data.append({\n",
    "            'track_id': track['id'],\n",
    "            'track_name': track['name'],\n",
    "            'artist_name': track['artists'][0]['name'],\n",
    "            'artist_id': track['artists'][0]['id'],\n",
    "            'popularity': track['popularity']\n",
    "        })\n",
    "\n",
    "tracks_df = pd.DataFrame(track_data)\n",
    "print(tracks_df.head())"
   ]
  },
  {
   "cell_type": "code",
   "execution_count": 62,
   "id": "32a1dddc",
   "metadata": {},
   "outputs": [],
   "source": [
    "audio_features = []\n",
    "track_ids = tracks_df['track_id'].tolist()\n",
    "\n",
    "for i in range(0, len(track_ids), 50): \n",
    "    features = sp.audio_features(track_ids[i:i+50])\n",
    "    audio_features.extend(features)\n",
    "\n",
    "audio_features_df = pd.DataFrame(audio_features)\n",
    "\n",
    "final_dataset = pd.merge(tracks_df, audio_features_df, left_on='track_id', right_on='id', how='left')\n",
    "\n",
    "final_dataset.drop(columns=['id'], inplace=True)\n"
   ]
  },
  {
   "cell_type": "code",
   "execution_count": 63,
   "id": "77d5839c",
   "metadata": {},
   "outputs": [],
   "source": [
    "artist_data = []\n",
    "\n",
    "artist_ids = tracks_df['artist_id'].unique().tolist()\n",
    "for i in range(0, len(artist_ids), 50):\n",
    "    artists = sp.artists(artist_ids[i:i+50])\n",
    "    for artist in artists['artists']:\n",
    "        artist_data.append({\n",
    "            'artist_id': artist['id'],\n",
    "            'artist_name': artist['name'],\n",
    "            'genres': artist['genres']\n",
    "        })\n",
    "\n",
    "artists_df = pd.DataFrame(artist_data)\n",
    "final_df = pd.merge(final_dataset, artists_df, on='artist_id', how='left')\n"
   ]
  },
  {
   "cell_type": "code",
   "execution_count": 64,
   "id": "7d097b32",
   "metadata": {},
   "outputs": [],
   "source": [
    "final_df.to_csv('spotify_music_dataset.csv', index=False)"
   ]
  },
  {
   "cell_type": "code",
   "execution_count": null,
   "id": "1135eeb6",
   "metadata": {},
   "outputs": [],
   "source": [
    "print(final_df.head())\n",
    "print(final_df.info())"
   ]
  },
  {
   "cell_type": "code",
   "execution_count": 66,
   "id": "e8847078",
   "metadata": {},
   "outputs": [],
   "source": [
    "final_df['genres'] = final_df['genres'].apply(lambda x: ', '.join(x) if isinstance(x, list) else x)"
   ]
  },
  {
   "cell_type": "code",
   "execution_count": 67,
   "id": "3900a571",
   "metadata": {},
   "outputs": [],
   "source": [
    "final_df = final_df.drop_duplicates()\n",
    "\n",
    "duplicates_after = final_df.duplicated().sum()"
   ]
  },
  {
   "cell_type": "code",
   "execution_count": 68,
   "id": "86460bc4",
   "metadata": {},
   "outputs": [],
   "source": [
    "columns_to_drop = ['type', 'uri', 'track_href', 'analysis_url', 'artist_name_y']\n",
    "final_df = final_df.drop(columns=columns_to_drop)"
   ]
  },
  {
   "cell_type": "code",
   "execution_count": null,
   "id": "fbd0a7db",
   "metadata": {},
   "outputs": [],
   "source": [
    "final_df.head()"
   ]
  },
  {
   "cell_type": "code",
   "execution_count": 70,
   "id": "7563a1f9",
   "metadata": {},
   "outputs": [],
   "source": [
    "tracks_df = final_df[['track_name']]"
   ]
  },
  {
   "cell_type": "code",
   "execution_count": null,
   "id": "a620742d",
   "metadata": {},
   "outputs": [],
   "source": [
    "from sklearn.preprocessing import LabelEncoder\n",
    "\n",
    "label_encoder_names = LabelEncoder()\n",
    "final_df['track_name'] = label_encoder_names.fit_transform(final_df['track_name'])\n",
    "tracks_df['track_name'] = label_encoder_names.fit_transform(final_df['track_name'])\n",
    "\n",
    "label_encoder_artists = LabelEncoder()\n",
    "final_df['artist_name_x'] = label_encoder_artists.fit_transform(final_df['artist_name_x'])"
   ]
  },
  {
   "cell_type": "code",
   "execution_count": 72,
   "id": "29cc1798",
   "metadata": {},
   "outputs": [],
   "source": [
    "genre_counts = final_df['genres'].str.split(', ').explode().value_counts()\n",
    "\n",
    "top_genres = genre_counts.head(15).index.tolist()\n",
    "\n",
    "def filter_genres(genres):\n",
    "    return [genre for genre in genres.split(', ') if genre in top_genres]\n",
    "\n",
    "final_df['filtered_genres'] = final_df['genres'].apply(filter_genres)\n",
    "\n",
    "genres_split = final_df['filtered_genres'].str.join(', ').str.get_dummies(sep=', ')\n",
    "\n",
    "final_df = pd.concat([final_df, genres_split], axis=1)\n",
    "\n",
    "final_df.drop(['genres', 'filtered_genres'], axis=1, inplace=True)\n"
   ]
  },
  {
   "cell_type": "code",
   "execution_count": 73,
   "id": "3bcff474",
   "metadata": {},
   "outputs": [],
   "source": [
    "le = LabelEncoder()\n",
    "\n",
    "final_df['track_id'] = le.fit_transform(final_df['track_id'])\n",
    "final_df['artist_id'] = le.fit_transform(final_df['artist_id'])\n"
   ]
  },
  {
   "cell_type": "code",
   "execution_count": null,
   "id": "4930e961",
   "metadata": {},
   "outputs": [],
   "source": [
    "from sklearn.preprocessing import StandardScaler\n",
    "\n",
    "scaler = StandardScaler()\n",
    "numerical_columns = ['popularity', 'danceability', 'energy', 'key', \n",
    "                     'loudness', 'mode', 'speechiness', \n",
    "                     'acousticness', 'instrumentalness', \n",
    "                     'liveness', 'valence', 'tempo', \n",
    "                     'duration_ms', 'time_signature']\n",
    "\n",
    "final_df[numerical_columns] = scaler.fit_transform(final_df[numerical_columns])\n",
    "final_df.head()\n"
   ]
  },
  {
   "cell_type": "code",
   "execution_count": null,
   "id": "5996d22a",
   "metadata": {},
   "outputs": [],
   "source": [
    "tracks_df.head()"
   ]
  },
  {
   "cell_type": "code",
   "execution_count": null,
   "id": "013b7de5",
   "metadata": {},
   "outputs": [],
   "source": [
    "import seaborn as sns\n",
    "import matplotlib.pyplot as plt\n",
    "\n",
    "\n",
    "correlation_matrix = final_df.corr()\n",
    "plt.figure(figsize=(30, 30))\n",
    "sns.heatmap(correlation_matrix, annot=True, cmap='coolwarm')\n",
    "plt.title(\"Correlation Matrix\")\n",
    "plt.show()"
   ]
  },
  {
   "cell_type": "code",
   "execution_count": null,
   "id": "d62fbcb7",
   "metadata": {},
   "outputs": [],
   "source": [
    "print(final_df.describe())"
   ]
  },
  {
   "cell_type": "code",
   "execution_count": null,
   "id": "938855f7",
   "metadata": {},
   "outputs": [],
   "source": [
    "features_to_plot = ['popularity', 'danceability', 'energy', 'valence', 'tempo']\n",
    "\n",
    "for feature in features_to_plot:\n",
    "    plt.figure(figsize=(8, 4))\n",
    "    sns.histplot(final_df[feature], bins=30, kde=True)\n",
    "    plt.title(f\"Distribution of {feature}\")\n",
    "    plt.show()"
   ]
  },
  {
   "cell_type": "code",
   "execution_count": 75,
   "id": "f8822cdb",
   "metadata": {},
   "outputs": [],
   "source": [
    "final_df.to_csv('dataset.csv', index=False)\n",
    "tracks_df.to_csv('tracks.csv', index=False)"
   ]
  }
 ],
 "metadata": {
  "kernelspec": {
   "display_name": "Python 3",
   "language": "python",
   "name": "python3"
  },
  "language_info": {
   "codemirror_mode": {
    "name": "ipython",
    "version": 3
   },
   "file_extension": ".py",
   "mimetype": "text/x-python",
   "name": "python",
   "nbconvert_exporter": "python",
   "pygments_lexer": "ipython3",
   "version": "3.9.13"
  }
 },
 "nbformat": 4,
 "nbformat_minor": 5
}
