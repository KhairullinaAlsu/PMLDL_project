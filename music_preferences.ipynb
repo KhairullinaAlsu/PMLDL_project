{
 "cells": [
  {
   "cell_type": "code",
   "execution_count": 4,
   "metadata": {},
   "outputs": [
    {
     "name": "stdout",
     "output_type": "stream",
     "text": [
      "  user  favorite_song_1  favorite_song_2  favorite_song_3  favorite_song_4  \\\n",
      "0    1              126               88              409               18   \n",
      "1    2              141              411              453              175   \n",
      "2    3              304              242               31              355   \n",
      "3    4              522               38               37              467   \n",
      "4    5               91              478              279              312   \n",
      "\n",
      "   favorite_song_5  favorite_song_6  favorite_song_7  favorite_song_8  \\\n",
      "0              470              159              517               84   \n",
      "1              213              240              393              372   \n",
      "2              512              159              132              498   \n",
      "3               74              171              290              525   \n",
      "4              453              402              480              120   \n",
      "\n",
      "   favorite_song_9  favorite_song_10  \n",
      "0              258               523  \n",
      "1              404               282  \n",
      "2              199               343  \n",
      "3              368               215  \n",
      "4               83               436  \n"
     ]
    }
   ],
   "source": [
    "import pandas as pd\n",
    "import random\n",
    "\n",
    "tracks_df = pd.read_csv('tracks.csv')\n",
    "\n",
    "users = [f'{i+1}' for i in range(100)]\n",
    "\n",
    "favorite_tracks = []\n",
    "\n",
    "for user in users:\n",
    "    favorite_songs = random.sample(list(tracks_df['track_name']), 10)\n",
    "    favorite_tracks.append([user] + favorite_songs)\n",
    "\n",
    "columns = ['user', 'favorite_song_1', 'favorite_song_2', 'favorite_song_3', \n",
    "           'favorite_song_4', 'favorite_song_5', 'favorite_song_6', \n",
    "           'favorite_song_7', 'favorite_song_8', 'favorite_song_9', \n",
    "           'favorite_song_10']\n",
    "favorite_tracks_df = pd.DataFrame(favorite_tracks, columns=columns)\n",
    "\n",
    "favorite_tracks_df.to_csv('favorite_tracks.csv', index=False)\n",
    "\n",
    "print(favorite_tracks_df.head())\n"
   ]
  }
 ],
 "metadata": {
  "kernelspec": {
   "display_name": "Python 3",
   "language": "python",
   "name": "python3"
  },
  "language_info": {
   "codemirror_mode": {
    "name": "ipython",
    "version": 3
   },
   "file_extension": ".py",
   "mimetype": "text/x-python",
   "name": "python",
   "nbconvert_exporter": "python",
   "pygments_lexer": "ipython3",
   "version": "3.9.13"
  }
 },
 "nbformat": 4,
 "nbformat_minor": 2
}
